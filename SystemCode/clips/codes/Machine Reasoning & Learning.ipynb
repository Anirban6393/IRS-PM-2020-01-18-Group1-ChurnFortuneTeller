{
 "cells": [
  {
   "cell_type": "markdown",
   "metadata": {},
   "source": [
    "## <font color=blue> Project: Churn Fortune Teller </font>\n",
    "\n",
    "__Group:__ 1<br>\n",
    "__Team Members:__<br>\n",
    "1) Anirban Kar Chaudhuri (A0108517H) <br>\n",
    "2) Maradana Vijaya Krishna (A0178453W) <br>\n",
    "3) Putrevu Manoj Niyogi (A0213557E) <br>\n",
    "4) Sivasankaran Balakrishnan (A0065970X)\n",
    "\n",
    "## <font color=blue> Objectives: Model Training & Evaluation </font>\n",
    "Machine reasoning if-else rules with forward-chaining inference used to generate new features.<br>\n",
    "Training & Evaluation of Random Forest and Extreme Gradient Boosting Classifiers.\n",
    "\n",
    "## <font color=blue> Overview: </font>\n",
    "\n",
    "1) Machine Reasoning based on if-else rules hypothesized from data visualisations<br>\n",
    "2) Random Forests vs Extreme Gradient Boosting Information <br>\n",
    "3) Random Forest Classifier Training and Evaluation<br>\n",
    "4) Extreme Gradient Forest Classifier Training and Evaluation<br>\n",
    "5) Choosing A model for finetuning, interpretation and analysis (covered in script entitled __'XGBoost Finetuning & Analysis'__) <br>\n",
    "6) Conclusive Statement"
   ]
  },
  {
   "cell_type": "code",
   "execution_count": 36,
   "metadata": {},
   "outputs": [
    {
     "name": "stdout",
     "output_type": "stream",
     "text": [
      "<class 'pandas.core.frame.DataFrame'>\n",
      "RangeIndex: 7043 entries, 0 to 7042\n",
      "Data columns (total 22 columns):\n",
      " #   Column            Non-Null Count  Dtype  \n",
      "---  ------            --------------  -----  \n",
      " 0   customerID        7043 non-null   object \n",
      " 1   gender            7043 non-null   object \n",
      " 2   SeniorCitizen     7043 non-null   int64  \n",
      " 3   Partner           7043 non-null   object \n",
      " 4   Dependents        7043 non-null   object \n",
      " 5   tenure            7043 non-null   float64\n",
      " 6   PhoneService      7043 non-null   object \n",
      " 7   MultipleLines     7043 non-null   object \n",
      " 8   InternetService   7043 non-null   object \n",
      " 9   OnlineSecurity    7043 non-null   object \n",
      " 10  OnlineBackup      7043 non-null   object \n",
      " 11  DeviceProtection  7043 non-null   object \n",
      " 12  TechSupport       7043 non-null   object \n",
      " 13  StreamingTV       7043 non-null   object \n",
      " 14  StreamingMovies   7043 non-null   object \n",
      " 15  Contract          7043 non-null   object \n",
      " 16  PaperlessBilling  7043 non-null   object \n",
      " 17  PaymentMethod     7043 non-null   object \n",
      " 18  MonthlyCharges    7043 non-null   float64\n",
      " 19  TotalCharges      7043 non-null   float64\n",
      " 20  Churn             7043 non-null   object \n",
      " 21  cluster           7043 non-null   int32  \n",
      "dtypes: float64(3), int32(1), int64(1), object(17)\n",
      "memory usage: 1.2+ MB\n"
     ]
    }
   ],
   "source": [
    "#Importing libraries\n",
    "import numpy as np # linear algebra\n",
    "import pandas as pd # data processing, CSV file I/O (e.g. pd.read_csv)\n",
    "# Input data files are available in the \"../input/\" directory.\n",
    "import matplotlib.pyplot as plt#visualization\n",
    "%matplotlib inline\n",
    "import pandas as pd\n",
    "import seaborn as sns#visualization\n",
    "\n",
    "churn_data=pd.read_pickle(\"customer_churn_data.pkl\")\n",
    "churn_data.info()"
   ]
  },
  {
   "cell_type": "markdown",
   "metadata": {},
   "source": [
    "### 1. Feature Engineering Using Machine Reasoning If-Else Rules (Forward Inference)"
   ]
  },
  {
   "cell_type": "code",
   "execution_count": 37,
   "metadata": {},
   "outputs": [],
   "source": [
    "# A person is a family man if he has a spouse and dependents. \n",
    "#These groups of people chalk higher monthly bill and may churn\n",
    "churn_data['Family_Person'] = np.where((churn_data['Dependents']=='Yes') & (churn_data['Partner']=='Yes'),1,0)\n",
    "\n",
    "\n",
    "# Protection is defined by availability of security, backup and customer technical support\n",
    "churn_data['Protection'] = np.where((churn_data['TechSupport'] == 'Yes') |\\\n",
    "                                    (churn_data['OnlineSecurity'] == 'Yes') |\\\n",
    "                                    (churn_data['OnlineBackup'] == 'Yes') |\\\n",
    "                                    (churn_data['DeviceProtection'] == 'Yes'),1,0)\n",
    "\n",
    "# Total services - total counts of phone, internet, streaming and protection related services\n",
    "churn_data['TotalServices'] = (churn_data[['PhoneService', 'InternetService', 'OnlineSecurity',\n",
    "                                       'OnlineBackup', 'DeviceProtection', 'TechSupport',\n",
    "                                       'StreamingTV', 'StreamingMovies']]== 'Yes').sum(axis=1)\n",
    "\n",
    "# Presence of internet determines churn probability as well as numerous facilities availability\n",
    "churn_data['Has_Internet']=churn_data['InternetService'].replace(['Fiber optic','DSL','No'], [1,1,0])\n",
    "\n",
    "# Presence of either streaming movies or TV show facilities determine if a customer is using streaming services\n",
    "churn_data['Streaming'] = np.where((churn_data['StreamingTV']=='Yes') | (churn_data['StreamingMovies']=='Yes'),1,0)\n",
    "\n",
    "# Manual check payment does not utilises advanced modern electronic technology\n",
    "churn_data['Tech_Payment'] = np.where((churn_data['PaymentMethod']!='Mailed check'),1,0)\n",
    "\n",
    "# A person is a techie if he utilises high-tech payment methods or enjoys streaming services\n",
    "churn_data['Techie'] = np.where((churn_data['Streaming']==1) | (churn_data['Tech_Payment']==1),1,0)\n",
    "\n",
    "# Premium services defined by fiber optic usage and multiple phone lines\n",
    "churn_data['Premium_Services'] = np.where((churn_data['MultipleLines']=='Yes') & (churn_data['InternetService']=='Fiber optic'),1,0)\n"
   ]
  },
  {
   "cell_type": "code",
   "execution_count": 42,
   "metadata": {},
   "outputs": [],
   "source": [
    "# People who have subscriptions for at least one year are committed customers\n",
    "churn_data['Committed']=churn_data['Contract'].replace(['Two year','One year','Month-to-month'], [1,1,0])\n",
    "\n",
    "# replacing string categories with numerical labels\n",
    "churn_data['PhoneService']=churn_data['PhoneService'].replace(['Yes','No'], [1,0])\n",
    "churn_data['PaperlessBilling']=churn_data['PaperlessBilling'].replace(['Yes','No'], [1,0])\n",
    "churn_data['Dependents']=churn_data['Dependents'].replace(['Yes','No'], [1,0])\n",
    "churn_data['Partner']=churn_data['Partner'].replace(['Yes','No'], [1,0])\n"
   ]
  },
  {
   "cell_type": "code",
   "execution_count": 4,
   "metadata": {},
   "outputs": [
    {
     "name": "stdout",
     "output_type": "stream",
     "text": [
      "<class 'pandas.core.frame.DataFrame'>\n",
      "RangeIndex: 7043 entries, 0 to 7042\n",
      "Data columns (total 31 columns):\n",
      " #   Column            Non-Null Count  Dtype  \n",
      "---  ------            --------------  -----  \n",
      " 0   customerID        7043 non-null   object \n",
      " 1   gender            7043 non-null   object \n",
      " 2   SeniorCitizen     7043 non-null   int64  \n",
      " 3   Partner           7043 non-null   int64  \n",
      " 4   Dependents        7043 non-null   int64  \n",
      " 5   tenure            7043 non-null   float64\n",
      " 6   PhoneService      7043 non-null   int64  \n",
      " 7   MultipleLines     7043 non-null   object \n",
      " 8   InternetService   7043 non-null   object \n",
      " 9   OnlineSecurity    7043 non-null   object \n",
      " 10  OnlineBackup      7043 non-null   object \n",
      " 11  DeviceProtection  7043 non-null   object \n",
      " 12  TechSupport       7043 non-null   object \n",
      " 13  StreamingTV       7043 non-null   object \n",
      " 14  StreamingMovies   7043 non-null   object \n",
      " 15  Contract          7043 non-null   object \n",
      " 16  PaperlessBilling  7043 non-null   int64  \n",
      " 17  PaymentMethod     7043 non-null   object \n",
      " 18  MonthlyCharges    7043 non-null   float64\n",
      " 19  TotalCharges      7043 non-null   float64\n",
      " 20  Churn             7043 non-null   object \n",
      " 21  cluster           7043 non-null   int32  \n",
      " 22  Family_Person     7043 non-null   int32  \n",
      " 23  Protection        7043 non-null   int32  \n",
      " 24  TotalServices     7043 non-null   int64  \n",
      " 25  Has_Internet      7043 non-null   int64  \n",
      " 26  Streaming         7043 non-null   int32  \n",
      " 27  Tech_Payment      7043 non-null   int32  \n",
      " 28  Techie            7043 non-null   int32  \n",
      " 29  Premium_Services  7043 non-null   int32  \n",
      " 30  Committed         7043 non-null   int64  \n",
      "dtypes: float64(3), int32(7), int64(8), object(13)\n",
      "memory usage: 1.5+ MB\n"
     ]
    }
   ],
   "source": [
    "churn_data.info()"
   ]
  },
  {
   "cell_type": "code",
   "execution_count": 5,
   "metadata": {},
   "outputs": [],
   "source": [
    "churn_data.to_pickle('ml-churn-data.pkl') #Save this dataframe containing newly processed data columns for a python pickle object"
   ]
  },
  {
   "cell_type": "code",
   "execution_count": 6,
   "metadata": {},
   "outputs": [],
   "source": [
    "y=churn_data['Churn']\n",
    "\n",
    "#Get rid of columns you don't wish to feed to machine learning models\n",
    "drop_list=[\"customerID\",\"Churn\",\"gender\",\"cluster\",\"Partner\",\"Dependents\",\"StreamingTV\",\"StreamingMovies\",\"TechSupport\",\n",
    "           \"OnlineSecurity\",\"OnlineBackup\",\"DeviceProtection\",\"TotalCharges\",\"MultipleLines\",\"PhoneService\",\"Contract\",\n",
    "          \"InternetService\",\"PaymentMethod\"]\n",
    "x=churn_data.drop(drop_list, axis=1)"
   ]
  },
  {
   "cell_type": "code",
   "execution_count": 7,
   "metadata": {},
   "outputs": [],
   "source": [
    "def label_encoder(dataframe, col_name): # Function for label encoding categorical variables\n",
    "    from sklearn.preprocessing import LabelEncoder\n",
    "    le = LabelEncoder()\n",
    "    le.fit(dataframe[col_name].unique())\n",
    "    dataframe[col_name] = le.transform(dataframe[col_name])\n",
    "    \n",
    "for i in list(x.columns[x.dtypes =='object']):\n",
    "    label_encoder(x, i)"
   ]
  },
  {
   "cell_type": "markdown",
   "metadata": {},
   "source": [
    "## 2. Random Forest vs Extreme Gradient Boost Trees\n",
    "\n",
    "A single decision tree is a weak predictor, but is relatively fast to build. More trees give you a more robust model and prevent overfitting.<br>\n",
    "Random Forests and Extreme Gradient Boosting algorithms are ensembles of invidual decision tree decisions being aggregated.\n",
    "\n",
    "Random forests reduce the variance seen in decision trees by:<br>\n",
    "1) Using different samples for training and specifying random feature subsets<br>\n",
    "2) Building and combining small (shallow) trees<br>\n",
    "3) However, the more trees you have, the slower the process. Each tree in the forest has to be generated, processed, and analyzed. In addition, the more features you have, the slower the process (which can sometimes take hours or even days); Reducing the set of features can dramatically speed up the process.<br>\n",
    "\n",
    "\n",
    "__How trees are built:__ \n",
    "\n",
    "Random forests builds each tree independently while gradient boosting builds one tree at a time sequentially. This additive model (ensemble) works in a forward stage-wise manner, introducing a weak learner to improve the shortcomings of existing weak learners. \n",
    "Combining results: random forests combine results at the end of the process (by averaging or \"majority rules\") while gradient boosting combines results along the way.\n",
    "\n",
    "Reference: https://www.datasciencecentral.com/profiles/blogs/decision-tree-vs-random-forest-vs-boosted-trees-explained"
   ]
  },
  {
   "cell_type": "markdown",
   "metadata": {},
   "source": [
    "### 2. Random Forest Classifier"
   ]
  },
  {
   "cell_type": "code",
   "execution_count": 8,
   "metadata": {},
   "outputs": [
    {
     "name": "stdout",
     "output_type": "stream",
     "text": [
      "(5282, 13) (1761, 13) (5282,) (1761,)\n"
     ]
    }
   ],
   "source": [
    "from sklearn.model_selection import train_test_split\n",
    "\n",
    "x_train, x_test, y_train, y_test = train_test_split(x, y, random_state=8,stratify=y,train_size=0.75)\n",
    "print(x_train.shape, x_test.shape, y_train.shape, y_test.shape)"
   ]
  },
  {
   "cell_type": "code",
   "execution_count": 27,
   "metadata": {},
   "outputs": [
    {
     "data": {
      "text/plain": [
       "RandomForestClassifier(bootstrap=True, ccp_alpha=0.0,\n",
       "                       class_weight={'No': 1, 'Yes': 1.8}, criterion='gini',\n",
       "                       max_depth=8, max_features=0.3, max_leaf_nodes=None,\n",
       "                       max_samples=None, min_impurity_decrease=0.0,\n",
       "                       min_impurity_split=None, min_samples_leaf=5,\n",
       "                       min_samples_split=5, min_weight_fraction_leaf=0.0,\n",
       "                       n_estimators=30, n_jobs=-1, oob_score=True,\n",
       "                       random_state=8, verbose=0, warm_start=False)"
      ]
     },
     "execution_count": 27,
     "metadata": {},
     "output_type": "execute_result"
    }
   ],
   "source": [
    "from sklearn.ensemble import RandomForestClassifier\n",
    "\n",
    "rf = RandomForestClassifier(bootstrap=True, oob_score=True, n_estimators=30, random_state=8,\n",
    "                            max_depth=8, class_weight={'No': 1, 'Yes': 1.8},n_jobs=-1,max_features=0.3,min_samples_leaf=5,\n",
    "                           min_samples_split=5)\n",
    "rf.fit(x_train, y_train)"
   ]
  },
  {
   "cell_type": "markdown",
   "metadata": {},
   "source": [
    "Note: Churn customer category instances should be given higher weight set inside the __class_weight dictionary.__\n",
    "Parameters worth playing with: Max depth, maximum number of features, number of estimators(decision trees)"
   ]
  },
  {
   "cell_type": "code",
   "execution_count": 28,
   "metadata": {},
   "outputs": [
    {
     "data": {
      "text/plain": [
       "0.7881484286255206"
      ]
     },
     "execution_count": 28,
     "metadata": {},
     "output_type": "execute_result"
    }
   ],
   "source": [
    "rf.oob_score_"
   ]
  },
  {
   "cell_type": "code",
   "execution_count": 29,
   "metadata": {},
   "outputs": [],
   "source": [
    "rf_predictions = rf.predict(x_test)"
   ]
  },
  {
   "cell_type": "code",
   "execution_count": 30,
   "metadata": {},
   "outputs": [
    {
     "data": {
      "image/png": "[encoded data removed]",
      "text/plain": [
       "<Figure size 720x576 with 1 Axes>"
      ]
     },
     "metadata": {
      "needs_background": "light"
     },
     "output_type": "display_data"
    }
   ],
   "source": [
    "from sklearn.model_selection import learning_curve\n",
    "\n",
    "def plot_learning_curve(model,titles):\n",
    "    sample_sizes, train_scores, val_scores = learning_curve(model, x_train, y_train, cv=5,\n",
    "                                                         random_state=42,n_jobs=-1)\n",
    "    fig, ax = plt.subplots(figsize=(10, 8))\n",
    "    ax.plot(sample_sizes, train_scores.mean(axis=1), label='train')\n",
    "    ax.plot(sample_sizes, val_scores.mean(axis=1), color='orange', label='validation')\n",
    "    ax.set(xlabel='samples', ylabel='accuracy', title='Learning Curve {}'.format(titles))\n",
    "    plt.grid()\n",
    "    ax.legend()\n",
    "    \n",
    "plot_learning_curve(rf, titles='Random Forest')"
   ]
  },
  {
   "cell_type": "markdown",
   "metadata": {},
   "source": [
    "Random Forest algorithm training and test scores are converging, indicating model is learning well."
   ]
  },
  {
   "cell_type": "code",
   "execution_count": 31,
   "metadata": {},
   "outputs": [
    {
     "data": {
      "text/html": [
       "<div>\n",
       "<style scoped>\n",
       "    .dataframe tbody tr th:only-of-type {\n",
       "        vertical-align: middle;\n",
       "    }\n",
       "\n",
       "    .dataframe tbody tr th {\n",
       "        vertical-align: top;\n",
       "    }\n",
       "\n",
       "    .dataframe thead th {\n",
       "        text-align: right;\n",
       "    }\n",
       "</style>\n",
       "<table border=\"1\" class=\"dataframe\">\n",
       "  <thead>\n",
       "    <tr style=\"text-align: right;\">\n",
       "      <th></th>\n",
       "      <th>fit_time</th>\n",
       "      <th>score_time</th>\n",
       "      <th>test_score</th>\n",
       "      <th>train_score</th>\n",
       "    </tr>\n",
       "  </thead>\n",
       "  <tbody>\n",
       "    <tr>\n",
       "      <th>0</th>\n",
       "      <td>0.076137</td>\n",
       "      <td>0.111032</td>\n",
       "      <td>0.790918</td>\n",
       "      <td>0.816805</td>\n",
       "    </tr>\n",
       "    <tr>\n",
       "      <th>1</th>\n",
       "      <td>0.089761</td>\n",
       "      <td>0.106454</td>\n",
       "      <td>0.781457</td>\n",
       "      <td>0.815858</td>\n",
       "    </tr>\n",
       "    <tr>\n",
       "      <th>2</th>\n",
       "      <td>0.074482</td>\n",
       "      <td>0.111408</td>\n",
       "      <td>0.794508</td>\n",
       "      <td>0.815902</td>\n",
       "    </tr>\n",
       "    <tr>\n",
       "      <th>3</th>\n",
       "      <td>0.085234</td>\n",
       "      <td>0.111419</td>\n",
       "      <td>0.794508</td>\n",
       "      <td>0.814955</td>\n",
       "    </tr>\n",
       "    <tr>\n",
       "      <th>4</th>\n",
       "      <td>0.082812</td>\n",
       "      <td>0.106489</td>\n",
       "      <td>0.781250</td>\n",
       "      <td>0.820398</td>\n",
       "    </tr>\n",
       "  </tbody>\n",
       "</table>\n",
       "</div>"
      ],
      "text/plain": [
       "   fit_time  score_time  test_score  train_score\n",
       "0  0.076137    0.111032    0.790918     0.816805\n",
       "1  0.089761    0.106454    0.781457     0.815858\n",
       "2  0.074482    0.111408    0.794508     0.815902\n",
       "3  0.085234    0.111419    0.794508     0.814955\n",
       "4  0.082812    0.106489    0.781250     0.820398"
      ]
     },
     "execution_count": 31,
     "metadata": {},
     "output_type": "execute_result"
    }
   ],
   "source": [
    "from sklearn.model_selection import cross_validate\n",
    "\n",
    "# cross validate\n",
    "scores_rf = cross_validate(rf, x_train, y_train, cv=5, return_train_score=True,return_estimator=False)\n",
    "scores_rf = pd.DataFrame(scores_rf)\n",
    "scores_rf "
   ]
  },
  {
   "cell_type": "code",
   "execution_count": 32,
   "metadata": {},
   "outputs": [
    {
     "name": "stdout",
     "output_type": "stream",
     "text": [
      "Mean Test Score for Random Forest Classifier:  0.7885279593474958\n",
      "Mean Train Score for Random Forest Classifier:  0.81678337258504\n"
     ]
    }
   ],
   "source": [
    "print('Mean Test Score for Random Forest Classifier: ', scores_rf['test_score'].mean())\n",
    "print('Mean Train Score for Random Forest Classifier: ', scores_rf['train_score'].mean())"
   ]
  },
  {
   "cell_type": "code",
   "execution_count": 33,
   "metadata": {},
   "outputs": [
    {
     "data": {
      "text/plain": [
       "[Text(33.0, 0.5, 'Truth'), Text(0.5, 15.0, 'Random Forest Prediction')]"
      ]
     },
     "execution_count": 33,
     "metadata": {},
     "output_type": "execute_result"
    },
    {
     "data": {
      "image/png": "[encoded data removed]",
      "text/plain": [
       "<Figure size 432x288 with 2 Axes>"
      ]
     },
     "metadata": {
      "needs_background": "light"
     },
     "output_type": "display_data"
    }
   ],
   "source": [
    "from sklearn.metrics import confusion_matrix\n",
    "\n",
    "ax = sns.heatmap(confusion_matrix(y_test, rf_predictions), annot=True, fmt='d')\n",
    "ax.set(xlabel='Random Forest Prediction', ylabel='Truth')"
   ]
  },
  {
   "cell_type": "markdown",
   "metadata": {},
   "source": [
    "Confusion Matrix above shows count distributions of False Positives, False Negatives, True Positives and True Negatives."
   ]
  },
  {
   "cell_type": "code",
   "execution_count": 34,
   "metadata": {},
   "outputs": [
    {
     "name": "stdout",
     "output_type": "stream",
     "text": [
      "              precision    recall  f1-score   support\n",
      "\n",
      "          No       0.87      0.82      0.84      1294\n",
      "         Yes       0.57      0.65      0.61       467\n",
      "\n",
      "    accuracy                           0.78      1761\n",
      "   macro avg       0.72      0.74      0.72      1761\n",
      "weighted avg       0.79      0.78      0.78      1761\n",
      "\n"
     ]
    }
   ],
   "source": [
    "from sklearn.metrics import classification_report\n",
    "\n",
    "print(classification_report(y_test,rf_predictions))"
   ]
  },
  {
   "cell_type": "markdown",
   "metadata": {},
   "source": [
    "Definitions of recall, precision and f1-score given below:\n",
    "    \n",
    "Accuracy = (TP+FP) / (TP+FP+TN+FN) <br>\n",
    "Precision = TP / (TP + FP) <br>\n",
    "Recall = Tp / (TP +FN) <br>\n",
    "F1-Score = 2 * ((Precision * Recall) / (Precision + Recall))"
   ]
  },
  {
   "cell_type": "code",
   "execution_count": 17,
   "metadata": {},
   "outputs": [],
   "source": [
    "def plot_feature_importances (model, kind, title, color, dataframe):\n",
    "    importances = pd.Series(data=model.feature_importances_, index= dataframe.columns)\n",
    "    # Sort importances\n",
    "    importances_sorted = importances.sort_values()\n",
    "    # Draw a horizontal barplot of importances_sorted\n",
    "    importances_sorted.plot(kind=kind, color=color)\n",
    "    plt.title(title)\n",
    "    plt.grid()\n",
    "    return(plt.show())"
   ]
  },
  {
   "cell_type": "code",
   "execution_count": 18,
   "metadata": {},
   "outputs": [
    {
     "data": {
      "image/png": "[encoded data removed]",
      "text/plain": [
       "<Figure size 720x720 with 1 Axes>"
      ]
     },
     "metadata": {
      "needs_background": "light"
     },
     "output_type": "display_data"
    }
   ],
   "source": [
    "fig,ax=plt.subplots(figsize=(10,10))\n",
    "plot_feature_importances (rf, 'barh', 'Churn Random Forest Classifier Importances', 'green', x_train)"
   ]
  },
  {
   "cell_type": "markdown",
   "metadata": {},
   "source": [
    "15 features used for modelling."
   ]
  },
  {
   "cell_type": "markdown",
   "metadata": {},
   "source": [
    "### 3. Extreme Gradient Boosting Classifier"
   ]
  },
  {
   "cell_type": "code",
   "execution_count": 19,
   "metadata": {},
   "outputs": [
    {
     "data": {
      "text/plain": [
       "XGBClassifier(base_score=0.5, booster=None, colsample_bylevel=1,\n",
       "              colsample_bynode=1, colsample_bytree=1, gamma=0, gpu_id=-1,\n",
       "              importance_type='gain', interaction_constraints=None,\n",
       "              learning_rate=0.5, max_delta_step=0, max_depth=4,\n",
       "              min_child_weight=1, missing=nan, monotone_constraints=None,\n",
       "              n_estimators=12, n_jobs=0, num_parallel_tree=1,\n",
       "              objective='reg:squarederror', random_state=100, reg_alpha=0.2,\n",
       "              reg_lambda=0, scale_pos_weight=1.6, seed=100, subsample=1,\n",
       "              tree_method=None, validate_parameters=False, verbosity=None)"
      ]
     },
     "execution_count": 19,
     "metadata": {},
     "output_type": "execute_result"
    }
   ],
   "source": [
    "from xgboost import XGBClassifier\n",
    "\n",
    "xgb=XGBClassifier(objective='reg:squarederror', n_estimators=12, max_depth=4,\n",
    "                  learning_rate=0.5, seed=100,reg_lambda=0, reg_alpha=0.2, colsample_bynode=1,colsample_bytree=1,\n",
    "                  scale_pos_weight=1.6)\n",
    "xgb.fit(x_train, y_train)"
   ]
  },
  {
   "cell_type": "code",
   "execution_count": 20,
   "metadata": {},
   "outputs": [],
   "source": [
    "xgb_predictions = xgb.predict(x_test)"
   ]
  },
  {
   "cell_type": "code",
   "execution_count": 21,
   "metadata": {},
   "outputs": [
    {
     "data": {
      "text/html": [
       "<div>\n",
       "<style scoped>\n",
       "    .dataframe tbody tr th:only-of-type {\n",
       "        vertical-align: middle;\n",
       "    }\n",
       "\n",
       "    .dataframe tbody tr th {\n",
       "        vertical-align: top;\n",
       "    }\n",
       "\n",
       "    .dataframe thead th {\n",
       "        text-align: right;\n",
       "    }\n",
       "</style>\n",
       "<table border=\"1\" class=\"dataframe\">\n",
       "  <thead>\n",
       "    <tr style=\"text-align: right;\">\n",
       "      <th></th>\n",
       "      <th>fit_time</th>\n",
       "      <th>score_time</th>\n",
       "      <th>test_score</th>\n",
       "      <th>train_score</th>\n",
       "    </tr>\n",
       "  </thead>\n",
       "  <tbody>\n",
       "    <tr>\n",
       "      <th>0</th>\n",
       "      <td>0.027925</td>\n",
       "      <td>0.004986</td>\n",
       "      <td>0.799432</td>\n",
       "      <td>0.825799</td>\n",
       "    </tr>\n",
       "    <tr>\n",
       "      <th>1</th>\n",
       "      <td>0.025931</td>\n",
       "      <td>0.004987</td>\n",
       "      <td>0.786187</td>\n",
       "      <td>0.821538</td>\n",
       "    </tr>\n",
       "    <tr>\n",
       "      <th>2</th>\n",
       "      <td>0.027925</td>\n",
       "      <td>0.004987</td>\n",
       "      <td>0.785985</td>\n",
       "      <td>0.825367</td>\n",
       "    </tr>\n",
       "    <tr>\n",
       "      <th>3</th>\n",
       "      <td>0.024933</td>\n",
       "      <td>0.004987</td>\n",
       "      <td>0.801136</td>\n",
       "      <td>0.824420</td>\n",
       "    </tr>\n",
       "    <tr>\n",
       "      <th>4</th>\n",
       "      <td>0.028923</td>\n",
       "      <td>0.004987</td>\n",
       "      <td>0.775568</td>\n",
       "      <td>0.824894</td>\n",
       "    </tr>\n",
       "  </tbody>\n",
       "</table>\n",
       "</div>"
      ],
      "text/plain": [
       "   fit_time  score_time  test_score  train_score\n",
       "0  0.027925    0.004986    0.799432     0.825799\n",
       "1  0.025931    0.004987    0.786187     0.821538\n",
       "2  0.027925    0.004987    0.785985     0.825367\n",
       "3  0.024933    0.004987    0.801136     0.824420\n",
       "4  0.028923    0.004987    0.775568     0.824894"
      ]
     },
     "execution_count": 21,
     "metadata": {},
     "output_type": "execute_result"
    }
   ],
   "source": [
    "# cross validate\n",
    "scores_xgb = cross_validate(xgb, x_train, y_train, cv=5, return_train_score=True,return_estimator=False)\n",
    "scores_xgb = pd.DataFrame(scores_xgb)\n",
    "scores_xgb "
   ]
  },
  {
   "cell_type": "code",
   "execution_count": 22,
   "metadata": {},
   "outputs": [
    {
     "name": "stdout",
     "output_type": "stream",
     "text": [
      "Mean Test Score for XGBoost Classifier:  0.7896618144548608\n",
      "Mean Train Score for XGBoost Classifier:  0.8244035654177997\n"
     ]
    }
   ],
   "source": [
    "print('Mean Test Score for XGBoost Classifier: ', scores_xgb['test_score'].mean())\n",
    "print('Mean Train Score for XGBoost Classifier: ', scores_xgb['train_score'].mean())"
   ]
  },
  {
   "cell_type": "code",
   "execution_count": 23,
   "metadata": {},
   "outputs": [
    {
     "data": {
      "image/png": "[encoded data removed]",
      "text/plain": [
       "<Figure size 720x576 with 1 Axes>"
      ]
     },
     "metadata": {
      "needs_background": "light"
     },
     "output_type": "display_data"
    }
   ],
   "source": [
    "plot_learning_curve(xgb, titles='XGBoost Classifier')"
   ]
  },
  {
   "cell_type": "code",
   "execution_count": 24,
   "metadata": {},
   "outputs": [
    {
     "data": {
      "text/plain": [
       "[Text(33.0, 0.5, 'Truth'), Text(0.5, 15.0, 'XGBoost Prediction')]"
      ]
     },
     "execution_count": 24,
     "metadata": {},
     "output_type": "execute_result"
    },
    {
     "data": {
      "image/png": "[encoded data removed]",
      "text/plain": [
       "<Figure size 432x288 with 2 Axes>"
      ]
     },
     "metadata": {
      "needs_background": "light"
     },
     "output_type": "display_data"
    }
   ],
   "source": [
    "ax = sns.heatmap(confusion_matrix(y_test, xgb_predictions), annot=True, fmt='d')\n",
    "ax.set(xlabel='XGBoost Prediction', ylabel='Truth')"
   ]
  },
  {
   "cell_type": "code",
   "execution_count": 25,
   "metadata": {},
   "outputs": [
    {
     "name": "stdout",
     "output_type": "stream",
     "text": [
      "              precision    recall  f1-score   support\n",
      "\n",
      "          No       0.86      0.82      0.84      1294\n",
      "         Yes       0.56      0.64      0.60       467\n",
      "\n",
      "    accuracy                           0.77      1761\n",
      "   macro avg       0.71      0.73      0.72      1761\n",
      "weighted avg       0.78      0.77      0.78      1761\n",
      "\n"
     ]
    }
   ],
   "source": [
    "print(classification_report(y_test, xgb_predictions))"
   ]
  },
  {
   "cell_type": "code",
   "execution_count": 26,
   "metadata": {},
   "outputs": [
    {
     "data": {
      "image/png": "[encoded data removed]",
      "text/plain": [
       "<Figure size 720x720 with 1 Axes>"
      ]
     },
     "metadata": {
      "needs_background": "light"
     },
     "output_type": "display_data"
    }
   ],
   "source": [
    "fig,ax=plt.subplots(figsize=(10,10))\n",
    "plot_feature_importances (xgb, 'barh', 'XGBoost Importances', 'maroon', x_train)"
   ]
  },
  {
   "cell_type": "markdown",
   "metadata": {},
   "source": [
    "## 4. Choice Of Model: Random Forest Classifier \n",
    "\n",
    "1) Higher __f-score__ (mean harmonic of precision and recall) as well as __accuracy__ <br>\n",
    "2) Less likely to overfit based on learning curve & the difference in cross-validation mean training & test score. It makes better predictions on unseen data compared to XGBoost Classifier.\n",
    "\n",
    "## 5. Conclusion: \n",
    "\n",
    "Trade off between false positives and false negatives. High false positives result in wastage of money spent on marketing campaigns. False negatives also pose a problem: customer leaving result in loss of revenue. F1-score takes into account mean harmonics of precision and recall (FP and FN both considered), useful during uneven class distribution.<br>\n",
    "\n",
    "If you carefully tune parameters, gradient boosting can result in better performance than random forests. However, gradient boosting may not be a good choice if you have a lot of noise, as it can result in overfitting like seen here. They also tend to be harder to tune than random forests."
   ]
  }
 ],
 "metadata": {
  "kernelspec": {
   "display_name": "Python 3",
   "language": "python",
   "name": "python3"
  },
  "language_info": {
   "codemirror_mode": {
    "name": "ipython",
    "version": 3
   },
   "file_extension": ".py",
   "mimetype": "text/x-python",
   "name": "python",
   "nbconvert_exporter": "python",
   "pygments_lexer": "ipython3",
   "version": "3.7.6"
  }
 },
 "nbformat": 4,
 "nbformat_minor": 4
}
